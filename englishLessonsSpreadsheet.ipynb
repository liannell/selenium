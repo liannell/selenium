{
 "cells": [
  {
   "cell_type": "markdown",
   "id": "47a3a03d-09d8-40c9-bcd0-d8b65d02bb0e",
   "metadata": {},
   "source": [
    "# Spreadsheet for English Lessons"
   ]
  },
  {
   "cell_type": "markdown",
   "id": "b88358db-4f13-4953-b78e-c9c359da50b7",
   "metadata": {},
   "source": [
    "using Selenium to get data from https://www.englishgrammar.org/lessons/"
   ]
  },
  {
   "cell_type": "code",
   "execution_count": 2,
   "id": "92855460-b634-4ace-bd25-6b4b06b29cc2",
   "metadata": {},
   "outputs": [],
   "source": [
    "import numpy as np\n",
    "import pandas as pd\n",
    "from time import sleep\n",
    "\n",
    "from selenium import webdriver\n",
    "from selenium.webdriver.common.keys import Keys\n",
    "from selenium.webdriver.common.by import By"
   ]
  },
  {
   "cell_type": "markdown",
   "id": "a4a04255-ad80-45c0-9485-a4c38a26509e",
   "metadata": {},
   "source": [
    "#### access website"
   ]
  },
  {
   "cell_type": "code",
   "execution_count": 3,
   "id": "a53dff24-631d-44cd-b4f6-e19cc354d3c7",
   "metadata": {},
   "outputs": [
    {
     "name": "stderr",
     "output_type": "stream",
     "text": [
      "/var/folders/x7/g3jn_87d3cldljmb204fyzwm0000gn/T/ipykernel_5329/3739795200.py:1: DeprecationWarning: executable_path has been deprecated, please pass in a Service object\n",
      "  browser = webdriver.Chrome('/Users/liannelelis/Downloads/chromedriver')\n"
     ]
    }
   ],
   "source": [
    "browser = webdriver.Chrome('/Users/liannelelis/Downloads/chromedriver')\n",
    "browser.get('https://www.englishgrammar.org/lessons/')\n",
    "browser.maximize_window()"
   ]
  },
  {
   "cell_type": "markdown",
   "id": "6693c916-6d9d-4f2b-bec6-efa3b6d1ebf9",
   "metadata": {},
   "source": [
    "#### load page until end of page"
   ]
  },
  {
   "cell_type": "code",
   "execution_count": 9,
   "id": "6d9a2acc-1fea-4c42-b39b-7cb80f70e86d",
   "metadata": {},
   "outputs": [],
   "source": [
    "loadMore = browser.find_element(By.PARTIAL_LINK_TEXT, 'Load More')\n",
    "loadMore.click()"
   ]
  },
  {
   "cell_type": "markdown",
   "id": "34904c0d-b001-48e6-b9f0-07215f6c7aba",
   "metadata": {},
   "source": [
    "##### infinite scrolling"
   ]
  },
  {
   "cell_type": "code",
   "execution_count": 11,
   "id": "b5746889-87a2-47af-8c92-2d08fd458bbb",
   "metadata": {},
   "outputs": [
    {
     "name": "stdout",
     "output_type": "stream",
     "text": [
      "81 scrolls\n",
      "End of page reached\n"
     ]
    }
   ],
   "source": [
    "from time import sleep\n",
    "# Set sleep time for the page to load on scroll\n",
    "SCROLL_PAUSE_TIME = 2\n",
    "\n",
    "# Get scroll height\n",
    "last_height = browser.execute_script(\"return document.body.scrollHeight\")\n",
    "\n",
    "count = 0\n",
    "\n",
    "while True:\n",
    "    # Scroll down to bottom\n",
    "    browser.execute_script(\"window.scrollTo(0, document.body.scrollHeight);\")\n",
    "\n",
    "    # Wait to load page\n",
    "    sleep(SCROLL_PAUSE_TIME)\n",
    "\n",
    "    # Calculate new scroll height and compare with last scroll height\n",
    "    new_height = browser.execute_script(\"return document.body.scrollHeight\")\n",
    "    if new_height == last_height:\n",
    "        break\n",
    "    last_height = new_height\n",
    "    count += 1\n",
    "\n",
    "print(f\"{count} scrolls\")\n",
    "print(\"End of page reached\")\n",
    "\n",
    "sleep(2)"
   ]
  },
  {
   "cell_type": "markdown",
   "id": "f4f7b350-efd4-4248-829c-46361251deb9",
   "metadata": {},
   "source": [
    "#### data webscraping"
   ]
  },
  {
   "cell_type": "code",
   "execution_count": 14,
   "id": "baf2324b-fae0-433f-9bb7-c384f8f2aca8",
   "metadata": {},
   "outputs": [],
   "source": [
    "date, lessons, links, pdf = ([] for i in range(4)) \n",
    "\n",
    "parent = browser.find_element(By.ID, 'pnlInfScroll_PostsList')\n",
    "a = parent.find_elements(By.TAG_NAME,'a')\n",
    "li = parent.find_elements(By.TAG_NAME,'li')\n",
    "\n",
    "for lnk in a:\n",
    "    l = lnk.get_attribute('href')\n",
    "    if 'pdf' in l:\n",
    "        pdf.append(l)\n",
    "    else:\n",
    "        links.append(l)\n",
    "\n",
    "for elements in li:\n",
    "    lessons.append(elements.text[10:])\n",
    "    date.append(elements.text[0:8])"
   ]
  },
  {
   "cell_type": "code",
   "execution_count": 16,
   "id": "7e8bf1f1-b134-4996-9847-9492ef0738bc",
   "metadata": {},
   "outputs": [],
   "source": [
    "browser.close()"
   ]
  },
  {
   "cell_type": "markdown",
   "id": "0c107a61-546d-4088-add5-c9aaad36d655",
   "metadata": {},
   "source": [
    "#### dataframe"
   ]
  },
  {
   "cell_type": "code",
   "execution_count": 61,
   "id": "5b348d25-7103-4d5b-aa18-df03b17362d0",
   "metadata": {},
   "outputs": [],
   "source": [
    "english_lessons = pd.DataFrame({'Date': date,\n",
    "                               'Lessons': lessons,\n",
    "                               'URL': links,\n",
    "                               'PDF': pdf})"
   ]
  },
  {
   "cell_type": "code",
   "execution_count": 63,
   "id": "e12269fc-eb32-4bcc-a978-3caaf34ddc7c",
   "metadata": {},
   "outputs": [
    {
     "data": {
      "text/html": [
       "<table border=\"1\" class=\"dataframe\">\n",
       "  <thead>\n",
       "    <tr style=\"text-align: right;\">\n",
       "      <th></th>\n",
       "      <th>Date</th>\n",
       "      <th>Lessons</th>\n",
       "      <th>URL</th>\n",
       "      <th>PDF</th>\n",
       "    </tr>\n",
       "  </thead>\n",
       "  <tbody>\n",
       "    <tr>\n",
       "      <th>0</th>\n",
       "      <td>2023-04-23</td>\n",
       "      <td>Gap Filling Vocabulary Exercise</td>\n",
       "      <td><a href=\"https://www.englishgrammar.org/gap-filling-vocabulary-exercise-8/\" target=\"_blank\">https://www.englishgrammar.org/gap-filling-vocabulary-exercise-8/</a></td>\n",
       "      <td><a href=\"https://www.englishgrammar.org/gap-filling-vocabulary-exercise-8/?pdf=16176\" target=\"_blank\">https://www.englishgrammar.org/gap-filling-vocabulary-exercise-8/?pdf=16176</a></td>\n",
       "    </tr>\n",
       "    <tr>\n",
       "      <th>1</th>\n",
       "      <td>2023-04-23</td>\n",
       "      <td>Intermediate Level Gap Filling Vocabulary Exercise</td>\n",
       "      <td><a href=\"https://www.englishgrammar.org/intermediate-level-gap-filling-vocabulary-exercise/\" target=\"_blank\">https://www.englishgrammar.org/intermediate-level-gap-filling-vocabulary-exercise/</a></td>\n",
       "      <td><a href=\"https://www.englishgrammar.org/intermediate-level-gap-filling-vocabulary-exercise/?pdf=16170\" target=\"_blank\">https://www.englishgrammar.org/intermediate-level-gap-filling-vocabulary-exercise/?pdf=16170</a></td>\n",
       "    </tr>\n",
       "    <tr>\n",
       "      <th>2</th>\n",
       "      <td>2022-04-23</td>\n",
       "      <td>Prepositions Quiz</td>\n",
       "      <td><a href=\"https://www.englishgrammar.org/prepositions-quiz-31/\" target=\"_blank\">https://www.englishgrammar.org/prepositions-quiz-31/</a></td>\n",
       "      <td><a href=\"https://www.englishgrammar.org/prepositions-quiz-31/?pdf=16152\" target=\"_blank\">https://www.englishgrammar.org/prepositions-quiz-31/?pdf=16152</a></td>\n",
       "    </tr>\n",
       "    <tr>\n",
       "      <th>3</th>\n",
       "      <td>2021-04-23</td>\n",
       "      <td>Prepositions Quiz</td>\n",
       "      <td><a href=\"https://www.englishgrammar.org/prepositions-quiz-30/\" target=\"_blank\">https://www.englishgrammar.org/prepositions-quiz-30/</a></td>\n",
       "      <td><a href=\"https://www.englishgrammar.org/prepositions-quiz-30/?pdf=16149\" target=\"_blank\">https://www.englishgrammar.org/prepositions-quiz-30/?pdf=16149</a></td>\n",
       "    </tr>\n",
       "    <tr>\n",
       "      <th>4</th>\n",
       "      <td>2021-04-23</td>\n",
       "      <td>Gap Filling Vocabulary Exercise</td>\n",
       "      <td><a href=\"https://www.englishgrammar.org/gap-filling-vocabulary-exercise-5/\" target=\"_blank\">https://www.englishgrammar.org/gap-filling-vocabulary-exercise-5/</a></td>\n",
       "      <td><a href=\"https://www.englishgrammar.org/gap-filling-vocabulary-exercise-5/?pdf=16146\" target=\"_blank\">https://www.englishgrammar.org/gap-filling-vocabulary-exercise-5/?pdf=16146</a></td>\n",
       "    </tr>\n",
       "  </tbody>\n",
       "</table>"
      ],
      "text/plain": [
       "<IPython.core.display.HTML object>"
      ]
     },
     "metadata": {},
     "output_type": "display_data"
    }
   ],
   "source": [
    "# converting the string to datetime format\n",
    "english_lessons['Date'] = pd.to_datetime(english_lessons['Date'], format='%y/%m/%d')\n",
    "\n",
    "# clickable link in  dataFrame\n",
    "from IPython.display import HTML,display\n",
    "#display(HTML(english_lessons.to_html(render_links=True, escape=False)))\n",
    "display(HTML(english_lessons[0:5].to_html(render_links=True, escape=False) ) )"
   ]
  },
  {
   "cell_type": "markdown",
   "id": "93245705-b14f-4dc6-a6f3-b411e8348f3a",
   "metadata": {},
   "source": [
    "### to do\n",
    "- group the lessons by NLP\n",
    "- build a streamlit app"
   ]
  },
  {
   "cell_type": "code",
   "execution_count": null,
   "id": "e32d9cc4-f78f-4ed0-914f-bf3639862e06",
   "metadata": {},
   "outputs": [],
   "source": []
  }
 ],
 "metadata": {
  "kernelspec": {
   "display_name": "webscraping",
   "language": "python",
   "name": "webscraping"
  },
  "language_info": {
   "codemirror_mode": {
    "name": "ipython",
    "version": 3
   },
   "file_extension": ".py",
   "mimetype": "text/x-python",
   "name": "python",
   "nbconvert_exporter": "python",
   "pygments_lexer": "ipython3",
   "version": "3.9.13"
  }
 },
 "nbformat": 4,
 "nbformat_minor": 5
}
